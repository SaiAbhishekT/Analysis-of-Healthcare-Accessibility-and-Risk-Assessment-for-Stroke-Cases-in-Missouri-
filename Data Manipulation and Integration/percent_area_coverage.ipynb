{
 "cells": [
  {
   "cell_type": "markdown",
   "metadata": {},
   "source": [
    "This noteb book consists of pipeline for determining the percentage of population of each county which lies whithin each service areas.The initial file generetion for the service areas were done in ArcGIS Online and ArcGISPro. The resulting shapefiles were then processed using this notebook"
   ]
  },
  {
   "cell_type": "markdown",
   "metadata": {},
   "source": [
    "**Import Libraries and Define Constants**"
   ]
  },
  {
   "cell_type": "code",
   "execution_count": 1,
   "metadata": {},
   "outputs": [],
   "source": [
    "import geopandas as gpd\n",
    "import pandas as pd\n",
    "import glob\n",
    "import os\n",
    "import re\n",
    "\n",
    "# Constants\n",
    "CENSUS_BLOCK_SHP = \"./shapefiles/population_block.shp\"\n",
    "COUNTIES_SHP = './shapefiles/mo_county.shp'\n",
    "COVERAGE_AREA_DIR = './service_areas_clipped/'\n",
    "OUTPUT_DIR = './coverage_analysis_results/'\n",
    "SQM_TO_SQMILES = 2589988.11  # Square meters to square miles conversion factor"
   ]
  },
  {
   "cell_type": "markdown",
   "metadata": {},
   "source": [
    "**Aggregate Population by County**"
   ]
  },
  {
   "cell_type": "code",
   "execution_count": 2,
   "metadata": {},
   "outputs": [],
   "source": [
    "def aggregate_population(file_path):\n",
    "    census_block = gpd.read_file(file_path)\n",
    "    agg_pop = census_block.groupby('COUNTYFP20')['POP20'].sum().reset_index()\n",
    "    agg_pop.rename(columns={'COUNTYFP20': 'countyfips', 'POP20': 'total_county_population'}, inplace=True)\n",
    "    return agg_pop"
   ]
  },
  {
   "cell_type": "markdown",
   "metadata": {},
   "source": [
    "**Prepare County Shapefile and Process Coverage Area**"
   ]
  },
  {
   "cell_type": "code",
   "execution_count": 3,
   "metadata": {},
   "outputs": [],
   "source": [
    "def prepare_county_shapefile(file_path, population_data):\n",
    "    counties = gpd.read_file(file_path).to_crs(epsg=26915)  # Project to UTM Zone 15N\n",
    "    counties = counties.merge(population_data, on='countyfips', how='inner')\n",
    "    counties['county_area'] = counties.geometry.area / SQM_TO_SQMILES  # Convert area to square miles\n",
    "    return counties.to_crs(epsg=26915)  \n"
   ]
  },
  {
   "cell_type": "markdown",
   "metadata": {},
   "source": [
    "**Process Coverage Areas and Save Results Dynamically**"
   ]
  },
  {
   "cell_type": "code",
   "execution_count": 4,
   "metadata": {},
   "outputs": [
    {
     "name": "stdout",
     "output_type": "stream",
     "text": [
      "Checking directory: ./service_areas_clipped/\n",
      "Found 4 shapefiles to process.\n",
      "Processing file: ./service_areas_clipped\\population_block_15mins.shp\n"
     ]
    },
    {
     "name": "stderr",
     "output_type": "stream",
     "text": [
      "C:\\Users\\alhassan\\AppData\\Local\\Temp\\ipykernel_15340\\4114923060.py:41: UserWarning: Column names longer than 10 characters will be truncated when saved to ESRI Shapefile.\n",
      "  final_data.to_file(shapefile_output_path)\n"
     ]
    },
    {
     "name": "stdout",
     "output_type": "stream",
     "text": [
      "Saved coverage analysis to ./coverage_analysis_results/population_block_15mins_coverage_analysis.shp\n",
      "Saved coverage analysis to Excel format as ./coverage_analysis_results/population_block_15mins_coverage_analysis.xlsx\n",
      "Processing file: ./service_areas_clipped\\population_block_30_mins.shp\n"
     ]
    },
    {
     "name": "stderr",
     "output_type": "stream",
     "text": [
      "C:\\Users\\alhassan\\AppData\\Local\\Temp\\ipykernel_15340\\4114923060.py:41: UserWarning: Column names longer than 10 characters will be truncated when saved to ESRI Shapefile.\n",
      "  final_data.to_file(shapefile_output_path)\n"
     ]
    },
    {
     "name": "stdout",
     "output_type": "stream",
     "text": [
      "Saved coverage analysis to ./coverage_analysis_results/population_block_30_mins_coverage_analysis.shp\n",
      "Saved coverage analysis to Excel format as ./coverage_analysis_results/population_block_30_mins_coverage_analysis.xlsx\n",
      "Processing file: ./service_areas_clipped\\population_block_45mins.shp\n"
     ]
    },
    {
     "name": "stderr",
     "output_type": "stream",
     "text": [
      "C:\\Users\\alhassan\\AppData\\Local\\Temp\\ipykernel_15340\\4114923060.py:41: UserWarning: Column names longer than 10 characters will be truncated when saved to ESRI Shapefile.\n",
      "  final_data.to_file(shapefile_output_path)\n"
     ]
    },
    {
     "name": "stdout",
     "output_type": "stream",
     "text": [
      "Saved coverage analysis to ./coverage_analysis_results/population_block_45mins_coverage_analysis.shp\n",
      "Saved coverage analysis to Excel format as ./coverage_analysis_results/population_block_45mins_coverage_analysis.xlsx\n",
      "Processing file: ./service_areas_clipped\\population_block_60mins.shp\n"
     ]
    },
    {
     "name": "stderr",
     "output_type": "stream",
     "text": [
      "C:\\Users\\alhassan\\AppData\\Local\\Temp\\ipykernel_15340\\4114923060.py:41: UserWarning: Column names longer than 10 characters will be truncated when saved to ESRI Shapefile.\n",
      "  final_data.to_file(shapefile_output_path)\n"
     ]
    },
    {
     "name": "stdout",
     "output_type": "stream",
     "text": [
      "Saved coverage analysis to ./coverage_analysis_results/population_block_60mins_coverage_analysis.shp\n",
      "Saved coverage analysis to Excel format as ./coverage_analysis_results/population_block_60mins_coverage_analysis.xlsx\n"
     ]
    }
   ],
   "source": [
    "def process_coverage_areas(directory, counties):\n",
    "    os.makedirs(OUTPUT_DIR, exist_ok=True)\n",
    "    print(f\"Checking directory: {directory}\")\n",
    "    \n",
    "    shapefiles = glob.glob(os.path.join(directory, '*.shp'))\n",
    "    print(f\"Found {len(shapefiles)} shapefiles to process.\")\n",
    "    \n",
    "    if not shapefiles:\n",
    "        print(\"No shapefiles found. Check the directory path.\")\n",
    "        return\n",
    "    \n",
    "    for file_path in shapefiles:\n",
    "        print(f\"Processing file: {file_path}\")\n",
    "        try:\n",
    "            census_blocks_coverage = gpd.read_file(file_path).to_crs(epsg=26915)  # Ensure CRS matches your data's location\n",
    "            census_blocks_coverage = census_blocks_coverage.rename(columns={'COUNTYFP20': 'countyfips', 'POP20': 'block_population'})\n",
    "            census_blocks_coverage['coverage_area'] = census_blocks_coverage.geometry.area / SQM_TO_SQMILES  # Convert area to square miles\n",
    "            coverage_agg = census_blocks_coverage.groupby('countyfips').agg({'block_population': 'sum', 'coverage_area': 'sum'}).reset_index()\n",
    "            \n",
    "            # Perform rounding right after calculations\n",
    "            coverage_agg = coverage_agg.round(2)\n",
    "            \n",
    "            coverage_agg['countyfips'] = coverage_agg['countyfips'].astype(str)\n",
    "            counties['countyfips'] = counties['countyfips'].astype(str)\n",
    "            \n",
    "            final_data = counties.merge(coverage_agg, on='countyfips', how='left')\n",
    "            final_data['block_population'].fillna(0, inplace=True)\n",
    "            final_data['coverage_area'].fillna(0, inplace=True)\n",
    "            final_data['percent_population_cov'] = (final_data['block_population'] / final_data['total_county_population']) * 100\n",
    "            final_data['percent_area_cov'] = (final_data['coverage_area'] / final_data['county_area']) * 100\n",
    "            \n",
    "            # Round final_data DataFrame as well\n",
    "            final_data = final_data.round(2)\n",
    "            \n",
    "            base_name = os.path.basename(file_path)\n",
    "            file_name_no_ext = os.path.splitext(base_name)[0]\n",
    "            shapefile_output_path = os.path.join(OUTPUT_DIR, file_name_no_ext + '_coverage_analysis.shp')\n",
    "            excel_output_path = os.path.join(OUTPUT_DIR, file_name_no_ext + '_coverage_analysis.xlsx')\n",
    "            \n",
    "            # Saving to Shapefile does not support rounding directly; handle data conversion/formatting in Excel and analysis\n",
    "            final_data.to_file(shapefile_output_path)\n",
    "            print(f\"Saved coverage analysis to {shapefile_output_path}\")\n",
    "            \n",
    "            # Prepare and save DataFrame without geometry column to Excel\n",
    "            df_for_excel = final_data.drop(columns='geometry')\n",
    "            df_for_excel.to_excel(excel_output_path, index=False)\n",
    "            print(f\"Saved coverage analysis to Excel format as {excel_output_path}\")\n",
    "        except Exception as e:\n",
    "            print(f\"Failed to process {file_path}: {e}\")\n",
    "\n",
    "# Execute the workflow\n",
    "county_population = aggregate_population(CENSUS_BLOCK_SHP)\n",
    "counties_prepared = prepare_county_shapefile(COUNTIES_SHP, county_population)\n",
    "process_coverage_areas(COVERAGE_AREA_DIR, counties_prepared)"
   ]
  },
  {
   "cell_type": "code",
   "execution_count": 5,
   "metadata": {},
   "outputs": [
    {
     "name": "stdout",
     "output_type": "stream",
     "text": [
      "Combined Excel file saved to ./coverage_analysis_results/combined_coverage_analysis.xlsx\n"
     ]
    }
   ],
   "source": [
    "def combine_excel_sheets(output_dir, combined_excel_name=\"combined_coverage_analysis.xlsx\"):\n",
    "    excel_files = glob.glob(os.path.join(output_dir, '*.xlsx'))\n",
    "    \n",
    "    # Initialize an empty DataFrame to store the combined data\n",
    "    combined_df = pd.DataFrame()\n",
    "\n",
    "    for excel_file in excel_files:\n",
    "        # Read the current Excel file into a DataFrame\n",
    "        df = pd.read_excel(excel_file)\n",
    "\n",
    "        # If combined_df is empty, initialize it with the current df\n",
    "        if combined_df.empty:\n",
    "            combined_df = df\n",
    "        else:\n",
    "            # Merge using 'countyfips' while avoiding column duplication\n",
    "            # Identify non-key columns that are present in both DataFrames\n",
    "            common_cols = set(combined_df.columns) & set(df.columns) - {'countyfips'}\n",
    "            # Rename these columns in df before merging to ensure uniqueness\n",
    "            df = df.rename(columns={col: f\"{col}_{os.path.basename(excel_file)}\" for col in common_cols})\n",
    "            # Perform the merge\n",
    "            combined_df = pd.merge(combined_df, df, on=\"countyfips\", how=\"outer\")\n",
    "\n",
    "    # Save the combined DataFrame to a new Excel file\n",
    "    combined_excel_path = os.path.join(output_dir, combined_excel_name)\n",
    "    combined_df.to_excel(combined_excel_path, index=False)\n",
    "    print(f\"Combined Excel file saved to {combined_excel_path}\")\n",
    "\n",
    "OUTPUT_DIR = './coverage_analysis_results/'  # Ensure this matches your output directory\n",
    "combine_excel_sheets(OUTPUT_DIR)"
   ]
  },
  {
   "cell_type": "markdown",
   "metadata": {},
   "source": [
    "The results from this an excel sheet which contains the percentage population for the various travel time areas"
   ]
  },
  {
   "cell_type": "code",
   "execution_count": null,
   "metadata": {},
   "outputs": [],
   "source": []
  }
 ],
 "metadata": {
  "kernelspec": {
   "display_name": "Python 3",
   "language": "python",
   "name": "python3"
  },
  "language_info": {
   "codemirror_mode": {
    "name": "ipython",
    "version": 3
   },
   "file_extension": ".py",
   "mimetype": "text/x-python",
   "name": "python",
   "nbconvert_exporter": "python",
   "pygments_lexer": "ipython3",
   "version": "3.7.3"
  }
 },
 "nbformat": 4,
 "nbformat_minor": 5
}
