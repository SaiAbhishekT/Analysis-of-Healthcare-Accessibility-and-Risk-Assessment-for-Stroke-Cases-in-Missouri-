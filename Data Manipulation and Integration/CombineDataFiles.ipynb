{
 "cells": [
  {
   "cell_type": "code",
   "execution_count": 18,
   "metadata": {},
   "outputs": [
    {
     "name": "stdout",
     "output_type": "stream",
     "text": [
      "                 County     State  CountyFIPS  Percentage  Lower Limit  \\\n",
      "0          Adair County  Missouri     29001.0        29.4         19.6   \n",
      "1         Andrew County  Missouri     29003.0        26.2         16.7   \n",
      "2       Atchison County  Missouri     29005.0        25.6         15.8   \n",
      "3        Audrain County  Missouri     29007.0        26.1         16.3   \n",
      "4          Barry County  Missouri     29009.0        24.4         15.4   \n",
      "...                 ...       ...         ...         ...          ...   \n",
      "1720  Washington County  Missouri     29221.0        22.5         15.6   \n",
      "1721       Wayne County  Missouri     29223.0        18.9         12.0   \n",
      "1722     Webster County  Missouri     29225.0        18.6         11.6   \n",
      "1723       Worth County  Missouri     29227.0        17.4         11.0   \n",
      "1724      Wright County  Missouri     29229.0        21.8         14.4   \n",
      "\n",
      "       Upper Limit  Year  \n",
      "0             39.4  2019  \n",
      "1             37.6  2019  \n",
      "2             35.9  2019  \n",
      "3             37.7  2019  \n",
      "4             35.7  2019  \n",
      "...            ...   ...  \n",
      "1720          31.3  2005  \n",
      "1721          27.1  2005  \n",
      "1722          26.8  2005  \n",
      "1723          26.0  2005  \n",
      "1724          31.6  2005  \n",
      "\n",
      "[1725 rows x 7 columns]\n"
     ]
    }
   ],
   "source": [
    "import pandas as pd\n",
    "import os\n",
    "\n",
    "# Directory containing your CSV files\n",
    "directory = os.getcwd()  # Current working directory where the Jupyter Notebook is located\n",
    "\n",
    "# List to hold dataframes for each year\n",
    "dfs = []\n",
    "\n",
    "# Loop through each file\n",
    "for filename in os.listdir(directory):\n",
    "    if filename.endswith(\".csv\"):\n",
    "        # Read the CSV file into a dataframe, skipping the first two rows\n",
    "        df = pd.read_csv(os.path.join(directory, filename), skiprows=2)\n",
    "        \n",
    "        # Remove the last row\n",
    "        df = df.iloc[:-1]\n",
    "        \n",
    "        # Extract year from filename\n",
    "        year = int(filename.split('-')[1].split('.')[0])\n",
    "        \n",
    "        # Add a column to identify the year\n",
    "        df['Year'] = year\n",
    "        \n",
    "        # Append the dataframe to the list\n",
    "        dfs.append(df)\n",
    "\n",
    "# Concatenate all dataframes into one\n",
    "combined_df = pd.concat(dfs, ignore_index=True)\n",
    "\n",
    "# Display the combined dataframe\n",
    "print(combined_df)"
   ]
  },
  {
   "cell_type": "code",
   "execution_count": 19,
   "metadata": {},
   "outputs": [
    {
     "name": "stdout",
     "output_type": "stream",
     "text": [
      "Combined data has been saved to combined_obesity_2005-2019.csv\n"
     ]
    }
   ],
   "source": [
    "# Define the path for the new CSV file\n",
    "output_csv_path = 'combined_obesity_2005-2019.csv'\n",
    "\n",
    "# Save the combined dataframe to a CSV file\n",
    "combined_df.to_csv(output_csv_path, index=False)\n",
    "\n",
    "# Confirmation message\n",
    "print(f\"Combined data has been saved to {output_csv_path}\")"
   ]
  },
  {
   "cell_type": "code",
   "execution_count": null,
   "metadata": {},
   "outputs": [],
   "source": []
  }
 ],
 "metadata": {
  "kernelspec": {
   "display_name": "Python 3",
   "language": "python",
   "name": "python3"
  },
  "language_info": {
   "codemirror_mode": {
    "name": "ipython",
    "version": 3
   },
   "file_extension": ".py",
   "mimetype": "text/x-python",
   "name": "python",
   "nbconvert_exporter": "python",
   "pygments_lexer": "ipython3",
   "version": "3.7.3"
  }
 },
 "nbformat": 4,
 "nbformat_minor": 2
}
