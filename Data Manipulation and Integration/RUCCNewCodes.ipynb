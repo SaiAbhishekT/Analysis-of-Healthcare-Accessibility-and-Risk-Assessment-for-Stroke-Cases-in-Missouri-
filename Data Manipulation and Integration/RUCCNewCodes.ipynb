{
 "cells": [
  {
   "cell_type": "code",
   "execution_count": 1,
   "metadata": {},
   "outputs": [
    {
     "name": "stderr",
     "output_type": "stream",
     "text": [
      "/opt/conda/lib/python3.7/site-packages/pandas/compat/_optional.py:138: UserWarning: Pandas requires version '2.7.0' or newer of 'numexpr' (version '2.6.9' currently installed).\n",
      "  warnings.warn(msg, UserWarning)\n"
     ]
    },
    {
     "name": "stdout",
     "output_type": "stream",
     "text": [
      "Classification completed and saved to: Modified_Ruralurbancontinuumcodes2023.xlsx\n"
     ]
    }
   ],
   "source": [
    "import pandas as pd\n",
    "\n",
    "# Load the Excel data\n",
    "file_path = 'Ruralurbancontinuumcodes2023.xlsx'\n",
    "sheet_name = 'Rural-urban Continuum Code 2023'  # Update if the sheet name is different\n",
    "data = pd.read_excel(file_path, sheet_name=sheet_name)\n",
    "\n",
    "# Function to classify based on RUCC_2023\n",
    "def classify_rucc(rucc_code):\n",
    "    if rucc_code in [1, 2, 3]:\n",
    "        return 'Metro'\n",
    "    elif rucc_code in [4, 6, 8]:\n",
    "        return 'Non-Metro, adjacent to Metro'\n",
    "    elif rucc_code in [5, 7, 9]:\n",
    "        return 'Non-Metro, not adjacent to Metro'\n",
    "    else:\n",
    "        return 'Unknown'  # In case there are unexpected codes\n",
    "\n",
    "# Apply the classification\n",
    "data['RUCC_Binned'] = data['RUCC_2023'].apply(classify_rucc)\n",
    "\n",
    "# Save the modified data to a new Excel file\n",
    "output_path = 'Modified_Ruralurbancontinuumcodes2023.xlsx'\n",
    "data.to_excel(output_path, index=False)\n",
    "\n",
    "print(\"Classification completed and saved to:\", output_path)\n"
   ]
  },
  {
   "cell_type": "code",
   "execution_count": 2,
   "metadata": {},
   "outputs": [
    {
     "name": "stdout",
     "output_type": "stream",
     "text": [
      "Missouri data classification completed and saved to: Modified22_Ruralurbancontinuumcodes2023_MO.xlsx\n"
     ]
    }
   ],
   "source": [
    "import pandas as pd\n",
    "\n",
    "# Load the Excel data\n",
    "file_path = 'Ruralurbancontinuumcodes2023.xlsx'\n",
    "sheet_name = 'Rural-urban Continuum Code 2023'  # Update if the sheet name is different\n",
    "data = pd.read_excel(file_path, sheet_name=sheet_name)\n",
    "\n",
    "# Filter data for Missouri state\n",
    "data = data[data['State'] == 'MO']  # Adjust 'State' column name if different in your dataset\n",
    "\n",
    "# Function to classify based on RUCC_2023\n",
    "def classify_rucc(rucc_code):\n",
    "    if rucc_code in [1, 2, 3]:\n",
    "        return '1'\n",
    "    elif rucc_code in [4, 6, 8]:\n",
    "        return '2'\n",
    "    elif rucc_code in [5, 7, 9]:\n",
    "        return '3'\n",
    "    else:\n",
    "        return 'Unknown'  # In case there are unexpected codes\n",
    "\n",
    "# Apply the classification\n",
    "data['RUCC_Binned'] = data['RUCC_2023'].apply(classify_rucc)\n",
    "\n",
    "# Save the modified data to a new Excel file\n",
    "output_path = 'Modified22_Ruralurbancontinuumcodes2023_MO.xlsx'\n",
    "data.to_excel(output_path, index=False)\n",
    "\n",
    "print(\"Missouri data classification completed and saved to:\", output_path)\n"
   ]
  },
  {
   "cell_type": "code",
   "execution_count": null,
   "metadata": {},
   "outputs": [],
   "source": []
  }
 ],
 "metadata": {
  "kernelspec": {
   "display_name": "Python 3",
   "language": "python",
   "name": "python3"
  },
  "language_info": {
   "codemirror_mode": {
    "name": "ipython",
    "version": 3
   },
   "file_extension": ".py",
   "mimetype": "text/x-python",
   "name": "python",
   "nbconvert_exporter": "python",
   "pygments_lexer": "ipython3",
   "version": "3.7.3"
  }
 },
 "nbformat": 4,
 "nbformat_minor": 2
}
